{
 "cells": [
  {
   "cell_type": "code",
   "execution_count": 1,
   "metadata": {},
   "outputs": [],
   "source": [
    "import numpy as np\n",
    "import pandas as pd\n",
    "import matplotlib.pyplot as plt\n",
    "%matplotlib inline\n",
    "from IPython.display import display\n",
    "import seaborn as sns\n"
   ]
  },
  {
   "cell_type": "code",
   "execution_count": 2,
   "metadata": {},
   "outputs": [],
   "source": [
    "# Loading dataset\n",
    "labels = [\"age\", \"workclass\", \"fnlwgt\", \"education\", \"education-num\",\n",
    "          \"marital-status\", \"occupation\" ,\"relationship\", \"race\", \"sex\",\n",
    "          \"capital-gain\", \"capital-loss\", \"hours-per-week\", \"native-country\", \"group\"]\n",
    "\n",
    "# From dataset description, we know that missing values or unknown values are marked with \"?\" value\n",
    "dataset = pd.read_csv('G:\\\\semester 8\\\\Data Mining\\\\Tugas\\\\1\\\\adult.data', names=labels,\n",
    "                         sep=',\\s', na_values=[\"?\"], engine='python')"
   ]
  },
  {
   "cell_type": "code",
   "execution_count": 3,
   "metadata": {},
   "outputs": [
    {
     "name": "stdout",
     "output_type": "stream",
     "text": [
      "Number of instances = 32561\n",
      "Number of attributes = 15\n"
     ]
    }
   ],
   "source": [
    "print('Number of instances = %d' % (dataset.shape[0]))\n",
    "print('Number of attributes = %d' % (dataset.shape[1]))"
   ]
  },
  {
   "cell_type": "code",
   "execution_count": 4,
   "metadata": {},
   "outputs": [
    {
     "name": "stdout",
     "output_type": "stream",
     "text": [
      "Number of missing values:\n",
      "\tage: 0\n",
      "\tworkclass: 1836\n",
      "\tfnlwgt: 0\n",
      "\teducation: 0\n",
      "\teducation-num: 0\n",
      "\tmarital-status: 0\n",
      "\toccupation: 1843\n",
      "\trelationship: 0\n",
      "\trace: 0\n",
      "\tsex: 0\n",
      "\tcapital-gain: 0\n",
      "\tcapital-loss: 0\n",
      "\thours-per-week: 0\n",
      "\tnative-country: 583\n",
      "\tgroup: 0\n"
     ]
    }
   ],
   "source": [
    "print('Number of missing values:')\n",
    "for col in dataset.columns:\n",
    "    print('\\t%s: %d' % (col, dataset[col].isnull().sum()))"
   ]
  },
  {
   "cell_type": "code",
   "execution_count": 5,
   "metadata": {},
   "outputs": [
    {
     "name": "stdout",
     "output_type": "stream",
     "text": [
      "Data shape before drop : (32561, 15)\n",
      "Data shape after drop : (30162, 15)\n",
      "\tage: 0\n",
      "\tworkclass: 0\n",
      "\tfnlwgt: 0\n",
      "\teducation: 0\n",
      "\teducation-num: 0\n",
      "\tmarital-status: 0\n",
      "\toccupation: 0\n",
      "\trelationship: 0\n",
      "\trace: 0\n",
      "\tsex: 0\n",
      "\tcapital-gain: 0\n",
      "\tcapital-loss: 0\n",
      "\thours-per-week: 0\n",
      "\tnative-country: 0\n",
      "\tgroup: 0\n"
     ]
    }
   ],
   "source": [
    "# Method 1\n",
    "# Dropping NaN values\n",
    "dataset_drop = pd.read_csv('G:\\\\semester 8\\\\Data Mining\\\\Tugas\\\\1\\\\adult.data', names=labels,\n",
    "                         sep=',\\s', na_values=[\"?\"], engine='python')\n",
    "print(\"Data shape before drop :\", dataset_drop.shape)\n",
    "dataset_drop.dropna(inplace=True)\n",
    "print(\"Data shape after drop :\", dataset_drop.shape)\n",
    "for col in dataset_drop.columns:\n",
    "    print('\\t%s: %d' % (col, dataset_drop[col].isnull().sum()))"
   ]
  },
  {
   "cell_type": "code",
   "execution_count": 6,
   "metadata": {},
   "outputs": [
    {
     "name": "stdout",
     "output_type": "stream",
     "text": [
      "\tage: 0\n",
      "\tworkclass: 1836\n",
      "\tfnlwgt: 0\n",
      "\teducation: 0\n",
      "\teducation-num: 0\n",
      "\tmarital-status: 0\n",
      "\toccupation: 1843\n",
      "\trelationship: 0\n",
      "\trace: 0\n",
      "\tsex: 0\n",
      "\tcapital-gain: 0\n",
      "\tcapital-loss: 0\n",
      "\thours-per-week: 0\n",
      "\tnative-country: 583\n",
      "\tgroup: 0\n",
      "\n",
      "\n",
      "\tage: 0\n",
      "\tworkclass: 0\n",
      "\tfnlwgt: 0\n",
      "\teducation: 0\n",
      "\teducation-num: 0\n",
      "\tmarital-status: 0\n",
      "\toccupation: 0\n",
      "\trelationship: 0\n",
      "\trace: 0\n",
      "\tsex: 0\n",
      "\tcapital-gain: 0\n",
      "\tcapital-loss: 0\n",
      "\thours-per-week: 0\n",
      "\tnative-country: 0\n",
      "\tgroup: 0\n"
     ]
    }
   ],
   "source": [
    "# Method 2\n",
    "# Using imputer with most frequent categorical\n",
    "\n",
    "from sklearn.base import TransformerMixin\n",
    "\n",
    "\n",
    "\n",
    "class DataFrameImputer(TransformerMixin):\n",
    "\n",
    "    def __init__(self):\n",
    "        \"\"\"Impute missing values.\n",
    "\n",
    "        Columns of dtype object are imputed with the most frequent value \n",
    "        in column.\n",
    "\n",
    "        Columns of other types are imputed with mean of column.\n",
    "\n",
    "        \"\"\"\n",
    "    def fit(self, X, y=None):\n",
    "\n",
    "        self.fill = pd.Series([X[c].value_counts().index[0]\n",
    "            if X[c].dtype == np.dtype('O') else X[c].mean() for c in X],\n",
    "            index=X.columns)\n",
    "\n",
    "        return self\n",
    "\n",
    "    def transform(self, X, y=None):\n",
    "        return X.fillna(self.fill)\n",
    "\n",
    "\n",
    "\n",
    "dataset_impute = pd.read_csv('G:\\\\semester 8\\\\Data Mining\\\\Tugas\\\\1\\\\adult.data', names=labels,\n",
    "                         sep=',\\s', na_values=[\"?\"], engine='python')\n",
    "\n",
    "for col in dataset_impute.columns:\n",
    "    print('\\t%s: %d' % (col, dataset_impute[col].isnull().sum()))\n",
    "imputer = DataFrameImputer()\n",
    "dataset_impute = imputer.fit_transform(dataset_impute)\n",
    "print('\\n')\n",
    "for col in dataset_impute.columns:\n",
    "    print('\\t%s: %d' % (col, dataset_impute[col].isnull().sum()))"
   ]
  },
  {
   "cell_type": "code",
   "execution_count": null,
   "metadata": {},
   "outputs": [],
   "source": []
  }
 ],
 "metadata": {
  "kernelspec": {
   "display_name": "Python 3",
   "language": "python",
   "name": "python3"
  },
  "language_info": {
   "codemirror_mode": {
    "name": "ipython",
    "version": 3
   },
   "file_extension": ".py",
   "mimetype": "text/x-python",
   "name": "python",
   "nbconvert_exporter": "python",
   "pygments_lexer": "ipython3",
   "version": "3.6.4"
  }
 },
 "nbformat": 4,
 "nbformat_minor": 2
}
